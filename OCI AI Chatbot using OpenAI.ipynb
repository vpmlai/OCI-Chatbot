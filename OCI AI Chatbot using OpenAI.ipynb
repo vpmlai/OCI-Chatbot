{
 "cells": [
  {
   "cell_type": "code",
   "execution_count": null,
   "id": "005889d7",
   "metadata": {},
   "outputs": [],
   "source": [
    "pip install openai gradio"
   ]
  },
  {
   "cell_type": "code",
   "execution_count": null,
   "id": "0a7de419",
   "metadata": {},
   "outputs": [],
   "source": [
    "import openai\n",
    "import gradio as gr"
   ]
  },
  {
   "cell_type": "markdown",
   "id": "3520c4d7",
   "metadata": {},
   "source": [
    "#### Get OpenAI API key from https://platform.openai.com/"
   ]
  },
  {
   "cell_type": "code",
   "execution_count": null,
   "id": "c43afa9e",
   "metadata": {},
   "outputs": [],
   "source": [
    "openai.api_key='XXXX'"
   ]
  },
  {
   "cell_type": "code",
   "execution_count": null,
   "id": "6d5cb4bc",
   "metadata": {},
   "outputs": [],
   "source": [
    "messages=[{\"role\":\"system\",\"content\": \"You are an AI specialized in Oracle Cloud Infrastructure\"}]"
   ]
  },
  {
   "cell_type": "code",
   "execution_count": null,
   "id": "3c712249",
   "metadata": {},
   "outputs": [],
   "source": [
    "def chatbot(input):\n",
    "    if input:\n",
    "        messages.append({\"role\":\"user\", \"content\":input})\n",
    "        chat=openai.ChatCompletion.create(\n",
    "        model=\"gpt-3.5-turbo\",messages=messages\n",
    "        )\n",
    "    reply=chat.choices[0].messages.content\n",
    "    messages.append({\"role\":\"assistant\",\"content\":reply})\n",
    "    return reply"
   ]
  },
  {
   "cell_type": "code",
   "execution_count": null,
   "id": "845670e4",
   "metadata": {},
   "outputs": [],
   "source": [
    "inputs=gr.inputs.Textbox(lines=7,label=\"You are chatting With an AI Bot\")\n",
    "outputs=gr.outputs.Textbox(label=\"Reply\")"
   ]
  },
  {
   "cell_type": "code",
   "execution_count": null,
   "id": "cc600ffa",
   "metadata": {},
   "outputs": [],
   "source": [
    "gr.Interface(fn=chatbot,inputs=inputs,outputs=outputs,title=\"Oracle Cloud Infrastructure\",description=\"Ask Anything on OCI\",theme=\"compact\").launch(share=False)"
   ]
  }
 ],
 "metadata": {
  "kernelspec": {
   "display_name": "Python 3",
   "language": "python",
   "name": "python3"
  },
  "language_info": {
   "codemirror_mode": {
    "name": "ipython",
    "version": 3
   },
   "file_extension": ".py",
   "mimetype": "text/x-python",
   "name": "python",
   "nbconvert_exporter": "python",
   "pygments_lexer": "ipython3",
   "version": "3.8.8"
  }
 },
 "nbformat": 4,
 "nbformat_minor": 5
}
